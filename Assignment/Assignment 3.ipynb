{
 "cells": [
  {
   "attachments": {},
   "cell_type": "markdown",
   "metadata": {},
   "source": [
    "# Assignment 3"
   ]
  },
  {
   "attachments": {},
   "cell_type": "markdown",
   "metadata": {},
   "source": [
    "## Try to submit as an HTML file"
   ]
  },
  {
   "attachments": {},
   "cell_type": "markdown",
   "metadata": {},
   "source": [
    "<font size = \"5\">\n",
    "Print your name below"
   ]
  },
  {
   "cell_type": "code",
   "execution_count": 40,
   "metadata": {},
   "outputs": [
    {
     "name": "stdout",
     "output_type": "stream",
     "text": [
      "Harry Park\n"
     ]
    }
   ],
   "source": [
    "print(\"Harry Park\")"
   ]
  },
  {
   "attachments": {},
   "cell_type": "markdown",
   "metadata": {},
   "source": [
    "<font size = \"5\">\n",
    "\n",
    "Import the numpy and matplotlib packages"
   ]
  },
  {
   "cell_type": "code",
   "execution_count": 2,
   "metadata": {},
   "outputs": [],
   "source": [
    "import numpy as np\n",
    "import matplotlib.pyplot as plt"
   ]
  },
  {
   "attachments": {},
   "cell_type": "markdown",
   "metadata": {},
   "source": [
    "<font size = \"5\">\n",
    "\n",
    "(a) Compute a formula:\n",
    "\n",
    "<font size = \"3\">\n",
    "\n",
    "$V=P\\left(1+{\\frac {r}{n}}\\right)^{nt}$\n",
    "\n",
    "Calculate $V$ when\n",
    "- $P =  2100 $\n",
    "- $r = 0.034$\n",
    "- $n = 4$\n",
    "- $t = 7$\n",
    "\n",
    "To get full points:\n",
    "- First define each of these variables\n",
    "- Write the formula above"
   ]
  },
  {
   "cell_type": "code",
   "execution_count": 7,
   "metadata": {},
   "outputs": [
    {
     "name": "stdout",
     "output_type": "stream",
     "text": [
      "2661.6108980682593\n"
     ]
    }
   ],
   "source": [
    "# Note (if you're interested in the context)\n",
    "# V = Accumulated value of investment\n",
    "# P =  Principal (the amount deposited)\n",
    "# r =  Quarterly interest rate\n",
    "# n = Number of quarters in a year\n",
    "# t = number of years\n",
    "\n",
    "P = 2100\n",
    "r = 0.034\n",
    "n = 4\n",
    "t = 7\n",
    "\n",
    "V = P * (1 + r/n)**(n*t)\n",
    "print(V)\n",
    "\n"
   ]
  },
  {
   "attachments": {},
   "cell_type": "markdown",
   "metadata": {},
   "source": [
    "<font size = \"5\">\n",
    "\n",
    "(b) Composite operations on arrays\n",
    "\n",
    "<font size = \"3\">\n",
    "\n",
    "- Define $r = 0.04\"\n",
    "- Define two arrays $A$ and $T$ using \"np.array()\", assigning the following values\n",
    "\n",
    "$ a = \\begin{pmatrix} a_1 \\\\ a_2 \\\\ a_3 \\end{pmatrix} =  \\begin{pmatrix} 20 \\\\ 30 \\\\ 15 \\end{pmatrix},\n",
    "\\qquad  t = \\begin{pmatrix} t_1 \\\\ t_2 \\\\ t_3 \\end{pmatrix} = \\begin{pmatrix} 0 \\\\ 1 \\\\ 2 \\end{pmatrix} $\n",
    "\n",
    "- Use element-by-element vector operations to compute a new array $M$ of length 3:\n",
    "\n",
    "$ M = \\begin{pmatrix} a_1 / (1+r)^{t_0}  \\\\ a_2 / (1+r)^{t_1} \\\\ a_3 / (1+r)^{t_2} \\end{pmatrix} $\n",
    "\n",
    "- Compute the sum of the values of $M$ using \"M.sum()\"\n",
    "\n",
    "Note: I am using subscripts to denote the individual elements of $a$ and $t$.\n",
    "- In the code just enter the values of $a$ and $t$.\n",
    "- To get full points you must do all of the above tasks\n",
    "\n"
   ]
  },
  {
   "cell_type": "code",
   "execution_count": 37,
   "metadata": {},
   "outputs": [
    {
     "name": "stdout",
     "output_type": "stream",
     "text": [
      "[20.         28.84615385 13.8683432 ]\n",
      "62.71449704142012\n"
     ]
    }
   ],
   "source": [
    "r= 0.04\n",
    "a  = np.array([20,30,15])\n",
    "t  = np.array([0,1,2])\n",
    "m = a / (1 + r)**t\n",
    "print(m)\n",
    "print(m.sum())\n",
    "\n"
   ]
  },
  {
   "attachments": {},
   "cell_type": "markdown",
   "metadata": {},
   "source": [
    "<font size = \"5\">\n",
    "\n",
    "(c) Plot a normal random variable \n",
    "\n",
    "<font size = \"3\">\n",
    "\n",
    "To get full points:\n",
    "- Set a seed using \"np.random.seed()\"\n",
    "- Create a normal random variable with the following parameters\n",
    "\n",
    "mean = 5, standard deviation = 2, and size = 1000\n",
    "\n",
    "- Create a histogram\n",
    "- Label the axes \n"
   ]
  },
  {
   "cell_type": "code",
   "execution_count": 20,
   "metadata": {},
   "outputs": [
    {
     "name": "stdout",
     "output_type": "stream",
     "text": [
      "[ 2.82873879  6.99469089  5.565957    1.98741057  3.8427995   8.30287307\n",
      "  0.14664151  4.14217474  7.53187252  3.2665192   3.6422277   4.81058206\n",
      "  7.98277925  3.72219601  4.11203608  4.13129745  9.41186017  9.37357218\n",
      "  7.0081078   5.7723728   6.47473715  7.98146406  3.12833226  7.35165809\n",
      "  2.49223866  3.724497    6.81421039  2.1426386   4.71986256  3.27649021\n",
      "  4.48876126 -0.59717821  1.45693379  3.60024553  6.85492486  4.65272863\n",
      "  5.00569183  6.37644542  3.24092731  5.56725465  3.38926696  1.54466101\n",
      "  4.21820041  6.14761172  5.6771781   4.97633901  9.78473053  5.82582432\n",
      "  6.95747201  9.47628668  2.41182935  2.92242358  8.48742445  3.40387453\n",
      "  5.05936646  7.13863194  6.78141278  8.50977236  7.99128827  7.13878534\n",
      "  3.45458257  6.58972534  5.62854399  2.34746908  7.83459809  6.61447307\n",
      "  5.09098016  4.53381588  2.60339771  5.39904815  5.93687824  3.33769003\n",
      "  7.3244081   2.80559391  0.7537993   7.07945418  4.19326792  4.74794083\n",
      "  3.32496655  1.78807448  7.51047475  3.62226203  8.32190498  6.61461637\n",
      "  4.37048371  2.8281952   3.53507603  2.57495374  9.17422672  5.32888246\n",
      "  7.30041109  2.4652959   5.36207026  7.35572388  4.32997848  7.06222892\n",
      "  2.83086418  2.27305691  5.75880122  4.24164713  6.28410938  1.04422414\n",
      "  6.42452927 10.19660785  4.95074804  5.06828426  5.35909897  1.27604858\n",
      "  5.85229328  1.78918051  4.1446408   7.4857391   3.52956609  6.00249798\n",
      "  7.02547811  5.55748171  2.25810306  4.33504945  8.91882268  0.94990847\n",
      "  4.44842797  3.89578386  5.24149473  6.49643123  8.21738194  4.45953522\n",
      "  6.62468266  5.99948029  5.9486946   3.87215214  3.00535706  2.79991377\n",
      "  3.48712558  5.64337315  6.52189879  5.6469377   3.90208981  8.61194022\n",
      "  8.03773125  4.29199977  3.35313719  5.26042991  7.53459729  5.66552995\n",
      "  6.11309741  4.57583976  5.91254179  8.0890889   4.52066244  5.28661547\n",
      "  5.50763295  5.56745071  2.17622225  1.24626269  2.96068986  5.33588459\n",
      "  6.10771233  3.93865088  7.75451497  4.71364805  5.040632    4.61207226\n",
      "  5.26805359  6.40894815  6.33130688  3.20315412  8.04732755  2.80994709\n",
      "  5.15845403  4.45120685  2.90201665  4.84975882  3.51837245  5.14581449\n",
      "  5.80617192  7.94385874  5.61476844  3.77754932  4.21676038  5.27995621\n",
      "  5.18692166  7.91917854  7.79070586  4.28212815  3.90271574 -0.11410921\n",
      "  3.90215917  3.04388459  4.29035108  5.78316848  5.35438466  4.94006399\n",
      "  5.39916422  4.74776445  5.39403787 -1.46211002  4.46141302  4.77829856\n",
      "  4.31747657  4.56410748  6.40662024  3.80378934  9.4014042   6.37659386\n",
      "  4.9873855   4.58667539  4.82695543  3.16938586  4.80959492  5.55736703\n",
      "  6.15908323  6.15937956  4.45024491  2.16783549  3.66179475  8.22438609\n",
      "  6.79211663  5.73923917  3.47741151  5.00729031  2.48866263  3.89612625\n",
      "  4.50959332  4.27672014  6.91320386  2.16254817  3.26913546  2.25062406\n",
      "  2.52529357  5.24811179  1.79911893  6.50773756  4.50636845  5.13757667\n",
      "  5.64515348  4.13166696  7.06495943  4.61131455  6.18814051  4.60177523\n",
      "  5.58174877  5.55932534  5.49993988  3.0513843   5.87175154  4.36208602\n",
      "  6.26097606  0.69501311  2.06976756  5.72689112  8.72585517  6.67011749\n",
      "  3.63509813  1.61589517  6.48537244  4.83883356  6.18140844  5.23059744\n",
      "  5.05928585 10.91725089  4.98774008  4.68150958  4.75710265  3.83292657\n",
      "  6.98026579  4.29249133  6.27188541  5.56920606  7.43797172  5.84035919\n",
      "  2.57323044  2.34702443  7.81673829  3.78257839  2.35879484  3.6607628\n",
      "  7.52925057  2.159574    3.26700959  3.66638498  2.49762025  2.63134532\n",
      "  1.96378405  4.07762517  4.29018234  3.63492369  1.69260432  7.50667189\n",
      "  2.34184234  5.55606742  2.85046681  6.33663373  6.91166471  3.24477283\n",
      "  1.15256854  6.39157464  8.75160109  5.83138908  5.32108884  6.63952122\n",
      "  6.53010969  3.34202233  3.68169738  6.2222471   4.71197331  7.63321119\n",
      "  3.59131571  6.50121983  5.68527596  4.74712487  7.35182154  6.36014307\n",
      "  2.99006569  6.28043736  7.74998126  4.73911062  4.5026883   3.6607057\n",
      "  4.97279223  6.37240137  3.3646634   2.30728488  4.24850018  2.24055004\n",
      "  6.04643688  4.14662046  1.48919631  4.30278497  4.61477003  5.89827123\n",
      "  4.70927291  8.73745291  3.9625923   4.8752029   4.79417877  4.43474323\n",
      "  5.28485117  6.08246259  7.68019741  1.86148775  3.97931425  4.10445715\n",
      "  6.87570059  4.28667388  1.20964881  5.17546093  4.93262154  5.35950313\n",
      "  2.91967424  8.43806936  4.35228043  4.62340628  3.19998286  3.13799599\n",
      "  2.55452608  4.2133783   3.08483632  9.11293468  1.22301524  2.7433389\n",
      "  4.19717114  6.34698256  4.17248624  6.35192679  3.02639222  5.11858227\n",
      "  8.48808217  3.06451121  5.83913535  5.41385504  0.49693003  3.82205891\n",
      "  7.26230381  5.27015534  2.57546207  6.38155455  4.04175411  5.72010146\n",
      "  5.75384023  2.7626088   6.57965607  2.9849824   2.38842827  3.23434202\n",
      "  4.30781993  5.21880631  3.45483254  6.48963862  5.50292837  3.61040357\n",
      "  6.77798584  7.32213672  4.80263061  4.57003391  1.45245729  4.18497482\n",
      "  4.41698657  5.49075881  4.66314714  5.48805388  8.06818058  3.9401718\n",
      "  4.01805543  2.38166937  4.98267907  6.95362596  1.4978593   3.66828607\n",
      "  5.07188101  6.70020577  5.76574048  5.65092726  4.55137443  5.96374851\n",
      "  7.02860777  1.58201645  6.4570708   4.80248039  3.94002227  0.11384843\n",
      "  2.23929735  8.39611798  3.62290294  2.83046246  4.08714809  3.50970556\n",
      "  5.24871727  8.03394736  3.8267681   5.3085801   2.70552572  8.04033288\n",
      "  5.37808688  2.83636175  6.80861244  7.3999753   5.32291273  1.72120606\n",
      "  8.57033763  5.62024504  7.34090859  3.89821359  4.20275215  5.22090622\n",
      "  7.22680336  5.28598006  2.48633237  5.52397839  8.25906839  5.13161256\n",
      "  5.25877105  2.47491251  2.19402182  3.72461572  4.34696471  5.20812147\n",
      "  5.33191395  8.2038153   5.11737488  7.12884538  4.92134133  7.89780722\n",
      "  1.25920504  3.80253647  6.96606679  4.65680799  6.86305923  5.77013221\n",
      "  6.89175397  6.22613546  6.34729787  7.98491077  6.97294804  6.98761341\n",
      "  5.04083752  3.83629958  3.68087982  6.50188919  0.12307887  2.38564362\n",
      "  3.07349263  4.50475724 -0.26287607  7.51744261  6.20035047  8.9691648\n",
      "  7.12442894  7.06075866  9.50135206  3.85808383  1.9930832   4.53528521\n",
      "  3.35001589  4.48630928  2.89956202  6.13576013  6.0259657   4.94615482\n",
      "  5.62316301  4.71589855  6.50406734  5.1392815   4.46910875  6.85916894\n",
      "  7.52164254  7.67490765  3.01945062  3.93110558  1.59700781  4.52286996\n",
      "  5.83224763  4.73439765  8.86170173  4.18831325  2.82298289  6.13700841\n",
      "  5.29986766  6.09928519  5.60757586  5.48753152  0.75540223  3.54777194\n",
      "  3.81935016  4.30407132  4.10321672  5.82563752  6.20176502  2.73671815\n",
      "  6.37360881  6.17153628  5.93154013  2.16421102  5.8811646   5.16519084\n",
      "  6.92176015  8.56871359  8.17613577  5.22528834  4.99625062  6.26389657\n",
      "  2.76992009  2.09863372  4.05493882  7.44113783  4.3377434   8.00516181\n",
      " -0.57622577  1.82558715  4.75262253  6.77638908  4.8607538   4.80869451\n",
      "  4.75651701  1.47420453  7.31613775  3.63447056  7.17906531  4.85895316\n",
      "  7.13632077  5.68651596  4.78665102  5.45252329  2.05404478  5.01205865\n",
      "  8.43208064  7.61638713  3.02995283  6.0113717   5.49595977  6.63437656\n",
      "  5.18830577  4.53299201  7.66126155  5.43279314  7.51092864  6.94877241\n",
      "  4.35102552  4.66599945  8.85966487  5.38296465  3.48274315  2.59991344\n",
      "  6.94826487  5.32058744  3.4158161   6.34916966  5.31949739  1.67904986\n",
      "  6.17737111  7.66638141 10.11970046  5.06980513  5.46529932  8.21319361\n",
      "  5.33744453  5.55068373  3.73876322  2.21124977  6.82537587  2.45285953\n",
      "  7.28131249  3.42366888  5.53046792  4.25545654  7.34920048  5.6016928\n",
      "  8.91819071  2.83264464  5.82772616  5.09468376  5.55988714  8.19184234\n",
      "  6.17063606  2.70494918  6.06702164  4.16876125  4.05329006  7.09171466\n",
      "  3.79532003  4.24053934  5.06481451  6.89237179  6.16317961  4.53117018\n",
      "  4.45564707  2.67974068  3.48032982  3.69123783  4.70141812  8.97352607\n",
      "  3.64906113  4.40834186  0.89520319  6.20114219  1.84510241  3.18682096\n",
      "  7.08467074  0.79014314  5.19184082  6.60185929  8.05088847  3.15981378\n",
      "  3.7519503   8.60887265  4.94987971  3.52747213  3.56502833  3.05488735\n",
      "  4.12065559  7.17644095  6.77553214  2.65145939  5.42917215  4.19568053\n",
      "  6.56488081  4.68728055  5.74304936  4.68278959  0.62582814  5.09400489\n",
      "  2.4565061   6.49425682  3.64034422  3.78997469  4.98219435  6.15558791\n",
      "  4.66051236  8.28436554  8.29763572  8.43093718  4.53136255  2.03608309\n",
      "  7.44015703  4.16730943  5.07633262  6.25664021  1.7911272   8.25824241\n",
      "  6.74992466  5.70454316  6.7818335   6.11390508  5.23365623  4.38445136\n",
      "  3.52171545  5.57442856  5.72240612  7.16639761  5.40132002  3.29359697\n",
      "  1.84753431  4.74487568  4.94508325  4.80381683  1.93897421  7.14893028\n",
      "  7.14525949  3.35342967  6.61196422  6.90566172  5.07689415  3.10300275\n",
      "  8.22676307  5.76184287  4.49792509  6.54569079  8.24441698  4.00567971\n",
      "  6.38284509  8.88632034  2.76687033  3.90149282  3.80428984  4.68334573\n",
      "  4.58005253  5.60159088  3.35924896  3.75467302  5.60258097  5.30982372\n",
      "  6.74815962  5.81871005  6.54369327  2.71409592  4.23316738  8.6967599\n",
      "  5.78415609  6.49478592  5.54546947  5.85067171  4.5381919  12.14315844\n",
      "  4.20768816  4.92335756  0.15032735  7.21253332  3.8954941   4.87841179\n",
      "  3.9439189   4.72263411  4.4315058   4.91391645  4.89439703  4.69158938\n",
      "  4.66424555  7.6170369   6.76283384  6.77488464  3.53510224  7.51364166\n",
      "  7.26328902  3.89319134  8.04770403  3.63354811  1.31593632  7.20305197\n",
      "  4.76096244  6.95384313  3.49159567  2.47645998  7.46374358  2.18546287\n",
      "  1.87793898  1.14882622 -0.5889446   2.92179123  0.66118408  4.92878903\n",
      "  0.5271653   2.81145316  9.66412399  5.69024848  5.10561135  1.75849604\n",
      "  4.50880467  5.09621713  1.78963841  5.25236136  7.38246491  4.30348376\n",
      "  4.60552726  0.91580717  2.20153226  7.1153902   3.67689871  3.14057673\n",
      "  3.61483377  4.88506775  2.68316818  5.25303301  2.27998465  6.548\n",
      "  2.88588845  7.64053664  4.97993469  3.30871114  6.82292122  2.25100624\n",
      "  3.90586871  4.99984895  4.75766639  0.98282906  3.15870691  5.33646868\n",
      "  2.36021688  7.5328586   5.99036178  3.97151922  4.55941507  8.72312825\n",
      "  6.8719769   5.76043829  2.16896246  8.25922264  7.10480214  4.70318922\n",
      "  3.90060386  4.62419212  2.59612664  4.05842888  6.52632103  1.38475745\n",
      "  4.37185125  5.22751195  5.20713607  2.64212609  2.63569422  7.17833076\n",
      "  2.55094181  7.01730191  4.03526937  7.1595927   4.15784299  2.66705736\n",
      "  6.71310971  4.96521756  7.89715317  6.78440017  4.54114674  4.1006648\n",
      "  5.04674469  5.38042004  3.23650295  6.68387915  4.20527302  4.15394451\n",
      "  3.91862333  5.46203453  3.6158948   5.26994022 10.53320614  4.89278108\n",
      "  4.13199052  1.66462154  5.10044385  2.78153811  4.24888376  5.30321519\n",
      "  1.5380211   5.3149255   5.60903035  2.40579996  4.21538162  1.33866728\n",
      "  8.15100187  5.66112655  4.640823    4.67312834  7.26288722  4.8116689\n",
      "  5.66163354  8.03725912  4.3076657   2.81472935  3.35099885  7.85732767\n",
      "  5.18285662  3.99533742  6.94728876  6.99591477  4.04870446  3.05612633\n",
      "  1.8589428   1.41222216  4.4700271   3.21360811  8.71694882  5.11707551\n",
      "  1.11570091  7.83745855  5.32342062  6.40995896  6.36406955  5.59311313\n",
      "  6.04668526  5.47752134  2.78722819  5.7334644   7.04781101  4.57988717\n",
      "  6.10260444  5.83917829  8.63130413  4.4944994   4.41599167  4.76613652\n",
      "  4.79521785  0.45476458  3.71478032  5.59977013  4.98348697  3.40132169\n",
      "  3.6704415   4.28877374  3.39685644  3.97389878  3.92121976  6.79074169\n",
      "  7.03278254  6.86717019  5.8534036   3.58335503  6.9196609   4.37149883\n",
      "  5.04610442  7.67644106  5.16798571  5.49456806  2.17444103  5.97401859\n",
      "  3.03998671  7.02387931  4.63080165  0.52766232  4.28395979  4.54393092\n",
      "  5.97095045  6.34102478  4.34447151  7.02573639 -1.33411066  3.572022\n",
      "  2.77527146  2.49163298  6.91941274  6.6583408   3.44845996  7.35611401\n",
      "  5.20293378  4.1566318   3.61415441  3.44345655  5.94554971  6.3003098\n",
      "  5.47700242  0.89956465  5.59271731  6.13079313  3.66158879  5.08650109\n",
      "  1.2722314   2.54006188  4.3515293   4.38049771  5.70335874  2.62614923\n",
      "  4.31758787  4.02044044  6.05602095  7.84208554  8.44184064  1.86311991\n",
      "  4.90397162  2.77494138  4.8705101   5.84583856  5.1629818   4.9019766\n",
      "  7.96607835  6.44197878  4.45469108  5.04842272  6.74179561  6.21958101\n",
      "  4.14984779  1.44951432  2.63068501  5.29195845  1.42694629  4.695211\n",
      "  4.09286165  6.99850561  2.36391235  1.13646204  4.16071852  6.26952626\n",
      "  7.1398372   3.18134597  5.9405275   2.7771391 ]\n"
     ]
    },
    {
     "data": {
      "text/plain": [
       "Text(0, 0.5, 'Y Axis')"
      ]
     },
     "execution_count": 20,
     "metadata": {},
     "output_type": "execute_result"
    },
    {
     "data": {
      "image/png": "[encoded data removed]",
      "text/plain": [
       "<Figure size 640x480 with 1 Axes>"
      ]
     },
     "metadata": {},
     "output_type": "display_data"
    }
   ],
   "source": [
    "\n",
    "np.random.seed(123)\n",
    "\n",
    "random_var = np.random.normal(loc=5, scale=2, size=1000)\n",
    "print(random_var)\n",
    "\n",
    "plt.hist(x = random_var)\n",
    "plt.xlabel(\"X Axis\")\n",
    "plt.ylabel(\"Y Axis\")\n"
   ]
  },
  {
   "attachments": {},
   "cell_type": "markdown",
   "metadata": {},
   "source": [
    "<font size = \"5\">\n",
    "\n",
    "(d) Checking a string condition\n",
    "\n",
    "<font size = \"3\">\n",
    "\n",
    "- Define a variable \"fruit\" with the value \"apple\"\n",
    "- Define a list\n",
    "\n",
    "list_fruits = [\"banana\",\"orange\",\"apple\"]\n",
    "- Write an expression to test whether \"fruit\" is contained in \"list_fruits\"\n",
    "\n",
    "Hint: Use the \"in\" command. The final output should be True/False.\n",
    "\n",
    "To get full points run all of the above commands\n"
   ]
  },
  {
   "cell_type": "code",
   "execution_count": 21,
   "metadata": {},
   "outputs": [
    {
     "name": "stdout",
     "output_type": "stream",
     "text": [
      "True\n"
     ]
    }
   ],
   "source": [
    "\n",
    "fruit = \"apple\"\n",
    "list_fruits = [\"banana\",\"orange\",\"apple\"]\n",
    "print(fruit in list_fruits)\n"
   ]
  },
  {
   "attachments": {},
   "cell_type": "markdown",
   "metadata": {},
   "source": [
    "<font size = \"5\">\n",
    "\n",
    "(e) Classifying a variable\n",
    "\n",
    "<font size = \"3\">\n",
    "\n",
    "- Define a new variable \"year\" and assign the value \"2008\"\n",
    "- Write an if/else statement that does the following\n",
    "    - print(\"Year 2000 or earlier\") if the year is less than or equal to  2000.\n",
    "    - print(\"Between 2001 and 2005\") if the year is between 2001 and 2005.\n",
    "    - print(\"Year 2006 or later\") if the year is after 2005.\n",
    "\n",
    "To get full points you must do all of the above instructions\n"
   ]
  },
  {
   "cell_type": "code",
   "execution_count": 39,
   "metadata": {},
   "outputs": [
    {
     "name": "stdout",
     "output_type": "stream",
     "text": [
      "Year 2006 or later\n"
     ]
    }
   ],
   "source": [
    "\n",
    "year = 2008\n",
    "\n",
    "if year <= 2000:\n",
    "    print(\"Year 2000 or earlier\")\n",
    "elif (year >= 2001) & (year <= 2005):\n",
    "    print(\"Between 2002 and 2005\")\n",
    "else:\n",
    "    print(\"Year 2006 or later\")\n",
    "\n",
    "\n"
   ]
  }
 ],
 "metadata": {
  "kernelspec": {
   "display_name": "Python 3",
   "language": "python",
   "name": "python3"
  },
  "language_info": {
   "codemirror_mode": {
    "name": "ipython",
    "version": 3
   },
   "file_extension": ".py",
   "mimetype": "text/x-python",
   "name": "python",
   "nbconvert_exporter": "python",
   "pygments_lexer": "ipython3",
   "version": "3.11.1 (v3.11.1:a7a450f84a, Dec  6 2022, 15:24:06) [Clang 13.0.0 (clang-1300.0.29.30)]"
  },
  "orig_nbformat": 4,
  "vscode": {
   "interpreter": {
    "hash": "aee8b7b246df8f9039afb4144a1f6fd8d2ca17a180786b69acc140d282b71a49"
   }
  }
 },
 "nbformat": 4,
 "nbformat_minor": 2
}
